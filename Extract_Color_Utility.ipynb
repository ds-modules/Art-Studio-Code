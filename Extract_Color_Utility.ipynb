{
 "cells": [
  {
   "cell_type": "code",
   "execution_count": 1,
   "id": "8a900ae0-9bd5-48e3-8f3c-ef7008748175",
   "metadata": {},
   "outputs": [
    {
     "name": "stdout",
     "output_type": "stream",
     "text": [
      "Top colors for https://assets-global.website-files.com/64efa7aec33b3cad9bbe5b6b/64fa48ed321bc75b845d3480_Neo%20Noir%2026.webp:\n",
      "Color 1: [91 45 26]\n",
      "Color 2: [ 15  82 101]\n",
      "Color 3: [18 24 26]\n",
      "Color 4: [212 186 124]\n",
      "Color 5: [ 39 133 152]\n",
      "Color 6: [166  97  41]\n"
     ]
    }
   ],
   "source": [
    "from PIL import Image\n",
    "import requests\n",
    "from io import BytesIO\n",
    "import numpy as np\n",
    "from sklearn.cluster import KMeans\n",
    "import matplotlib.pyplot as plt\n",
    "\n",
    "max_dimension = 254\n",
    "\n",
    "# Load the image from the provided URL\n",
    "url = \"https://assets-global.website-files.com/64efa7aec33b3cad9bbe5b6b/64fa48ed321bc75b845d3480_Neo%20Noir%2026.webp\"\n",
    "response = requests.get(url)\n",
    "img = Image.open(BytesIO(response.content))\n",
    "img = img.convert('RGB')\n",
    "\n",
    "# Resize the image to reduce computation time while maintaining proportions\n",
    "original_width, original_height = img.size\n",
    "scaling_factor = max_dimension / max(original_width, original_height)\n",
    "new_size = (int(original_width * scaling_factor), int(original_height * scaling_factor))\n",
    "img = img.resize(new_size, Image.ANTIALIAS)\n",
    "\n",
    "# Convert the image data to a two-dimensional numpy array\n",
    "image_data = np.array(img)\n",
    "image_data = image_data.reshape((-1, 3))  # Reshape to (num_pixels, 3)\n",
    "\n",
    "# Use KMeans to find the top 6 colors\n",
    "num_colors = 6\n",
    "kmeans = KMeans(n_clusters=num_colors)\n",
    "kmeans.fit(image_data)\n",
    "\n",
    "# Get the cluster centers (top 6 colors)\n",
    "top_colors = kmeans.cluster_centers_\n",
    "\n",
    "# Print the top colors as RGB values\n",
    "print(f\"Top colors for {url}:\")\n",
    "for i, color in enumerate(top_colors):\n",
    "    print(f\"Color {i + 1}: {color.astype(int)}\")\n"
   ]
  },
  {
   "cell_type": "code",
   "execution_count": 2,
   "id": "0f33d585-2d8b-4700-911b-bbfc2a0458d8",
   "metadata": {},
   "outputs": [
    {
     "data": {
      "image/png": "[encoded data removed]",
      "text/plain": [
       "<Figure size 1000x200 with 6 Axes>"
      ]
     },
     "metadata": {},
     "output_type": "display_data"
    }
   ],
   "source": [
    "def plot_colors(frequent_colors):\n",
    "    plt.figure(figsize=(10, 2))\n",
    "    for i, color in enumerate(frequent_colors):\n",
    "        plt.subplot(1, 6, i+1)\n",
    "        plt.axis('off')\n",
    "        plt.imshow([[color.astype(np.uint8)]])\n",
    "    plt.show()\n",
    "\n",
    "plot_colors(top_colors)"
   ]
  },
  {
   "cell_type": "code",
   "execution_count": null,
   "id": "49b204a6-c744-4ee8-bfca-73091e1f172d",
   "metadata": {},
   "outputs": [],
   "source": []
  }
 ],
 "metadata": {
  "kernelspec": {
   "display_name": "Python 3 (ipykernel)",
   "language": "python",
   "name": "python3"
  },
  "language_info": {
   "codemirror_mode": {
    "name": "ipython",
    "version": 3
   },
   "file_extension": ".py",
   "mimetype": "text/x-python",
   "name": "python",
   "nbconvert_exporter": "python",
   "pygments_lexer": "ipython3",
   "version": "3.9.15"
  }
 },
 "nbformat": 4,
 "nbformat_minor": 5
}
